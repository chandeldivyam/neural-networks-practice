{
 "cells": [
  {
   "cell_type": "markdown",
   "id": "0aad1c9f-cdaf-4bd0-850b-a27e112b5f63",
   "metadata": {},
   "source": [
    "# Lazy Initialization"
   ]
  },
  {
   "cell_type": "code",
   "execution_count": 1,
   "id": "39ee1632-9a1e-412b-98d2-a52d79be25a3",
   "metadata": {},
   "outputs": [],
   "source": [
    "import torch\n",
    "from torch import nn\n",
    "from d2l import torch as d2l"
   ]
  },
  {
   "cell_type": "markdown",
   "id": "1267a55a-3992-4486-8d81-63e668d2e5d8",
   "metadata": {},
   "source": [
    "- Till now, our models were working even when we initialized them randomly without thinking through the network architecture.\n",
    "- This was because we were using lazy initialization where the framework `torch in our case` figured out later when we passed our inputs for the first time and initialized the network accordingly"
   ]
  },
  {
   "cell_type": "code",
   "execution_count": 2,
   "id": "14772506-fe5a-4382-9686-5bcb3f6def27",
   "metadata": {},
   "outputs": [
    {
     "name": "stderr",
     "output_type": "stream",
     "text": [
      "/Users/divyamchandel/Documents/Projects/neural-networks-practice/env/lib/python3.11/site-packages/torch/nn/modules/lazy.py:180: UserWarning: Lazy modules are a new feature under heavy development so changes to the API or functionality can happen at any moment.\n",
      "  warnings.warn('Lazy modules are a new feature under heavy development '\n"
     ]
    }
   ],
   "source": [
    "net = nn.Sequential(nn.LazyLinear(256), nn.ReLU(), nn.LazyLinear(10))"
   ]
  },
  {
   "cell_type": "code",
   "execution_count": 3,
   "id": "6f06098e-507c-4b5f-8070-af7e72f84bbe",
   "metadata": {},
   "outputs": [
    {
     "data": {
      "text/plain": [
       "<UninitializedParameter>"
      ]
     },
     "execution_count": 3,
     "metadata": {},
     "output_type": "execute_result"
    }
   ],
   "source": [
    "# We can now check that the parameters of the different layers in the net are not yet defined\n",
    "net[0].weight"
   ]
  },
  {
   "cell_type": "code",
   "execution_count": 5,
   "id": "4e6a3428-6118-480b-b836-052bdcab4086",
   "metadata": {},
   "outputs": [
    {
     "data": {
      "text/plain": [
       "torch.Size([256, 20])"
      ]
     },
     "execution_count": 5,
     "metadata": {},
     "output_type": "execute_result"
    }
   ],
   "source": [
    "# Now once we pass some input to the model\n",
    "X = torch.rand((2, 20))\n",
    "net(X)\n",
    "net[0].weight.shape"
   ]
  },
  {
   "cell_type": "code",
   "execution_count": 6,
   "id": "a95ea41b-a245-4c58-bf4f-3b377add3a93",
   "metadata": {},
   "outputs": [],
   "source": [
    "@d2l.add_to_class(d2l.Module)  #@save\n",
    "def apply_init(self, inputs, init=None):\n",
    "    self.forward(inputs)\n",
    "    if init is not None:\n",
    "        self.net.apply(init)"
   ]
  },
  {
   "cell_type": "code",
   "execution_count": null,
   "id": "61306622-26b6-4827-b515-520a116503f4",
   "metadata": {},
   "outputs": [],
   "source": []
  }
 ],
 "metadata": {
  "kernelspec": {
   "display_name": "Python 3 (ipykernel)",
   "language": "python",
   "name": "python3"
  },
  "language_info": {
   "codemirror_mode": {
    "name": "ipython",
    "version": 3
   },
   "file_extension": ".py",
   "mimetype": "text/x-python",
   "name": "python",
   "nbconvert_exporter": "python",
   "pygments_lexer": "ipython3",
   "version": "3.11.5"
  }
 },
 "nbformat": 4,
 "nbformat_minor": 5
}
