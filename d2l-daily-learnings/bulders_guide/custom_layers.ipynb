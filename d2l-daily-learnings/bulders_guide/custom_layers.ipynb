{
 "cells": [
  {
   "cell_type": "markdown",
   "id": "1e8ad65d-1f92-4006-aa76-f1feb94e6b7d",
   "metadata": {},
   "source": [
    "# Custom Layers"
   ]
  },
  {
   "cell_type": "code",
   "execution_count": 12,
   "id": "86479f39-1528-4d33-978c-8cdd3aa96d77",
   "metadata": {},
   "outputs": [],
   "source": [
    "import torch\n",
    "from torch import nn\n",
    "from torch.nn import functional as F\n",
    "from d2l import torch as d2l"
   ]
  },
  {
   "cell_type": "markdown",
   "id": "56d3ff17-c8dd-415d-b4b6-84beef99a58f",
   "metadata": {},
   "source": [
    "- There are two types of layers:\n",
    "  - Layers with parameters\n",
    "  - Layers without parameters"
   ]
  },
  {
   "cell_type": "code",
   "execution_count": 2,
   "id": "69229304-7d40-4cd2-aade-764447865f29",
   "metadata": {},
   "outputs": [],
   "source": [
    "# Layer without parameters\n",
    "class CenteredLayer(nn.Module):\n",
    "    def __init__(self):\n",
    "        super().__init__()\n",
    "\n",
    "    def forward(self, X):\n",
    "        return X - X.mean()"
   ]
  },
  {
   "cell_type": "code",
   "execution_count": 5,
   "id": "3edceb7a-9b44-431f-8ff5-34961a5f795d",
   "metadata": {},
   "outputs": [
    {
     "data": {
      "text/plain": [
       "tensor([-2., -1.,  0.,  1.,  2.])"
      ]
     },
     "execution_count": 5,
     "metadata": {},
     "output_type": "execute_result"
    }
   ],
   "source": [
    "layer = CenteredLayer()\n",
    "layer(torch.tensor([1.0, 2, 3, 4, 5]))"
   ]
  },
  {
   "cell_type": "code",
   "execution_count": 7,
   "id": "8f35fb14-6307-4b84-a96e-50c7a2aec4bd",
   "metadata": {},
   "outputs": [],
   "source": [
    "net = nn.Sequential(nn.LazyLinear(128), CenteredLayer())"
   ]
  },
  {
   "cell_type": "code",
   "execution_count": 9,
   "id": "68ee51b6-7282-42f6-b265-350076178197",
   "metadata": {},
   "outputs": [
    {
     "data": {
      "text/plain": [
       "tensor(1.8626e-09, grad_fn=<MeanBackward0>)"
      ]
     },
     "execution_count": 9,
     "metadata": {},
     "output_type": "execute_result"
    }
   ],
   "source": [
    "Y = net(torch.rand(4, 8))\n",
    "Y.mean()"
   ]
  },
  {
   "cell_type": "code",
   "execution_count": 22,
   "id": "05b179fb-3c78-4799-9d31-4f685309a1de",
   "metadata": {},
   "outputs": [],
   "source": [
    "# Layers with parameters\n",
    "class MyLinear(nn.Module):\n",
    "    def __init__(self, in_units, units):\n",
    "        super().__init__()\n",
    "        self.weight = nn.Parameter(torch.randn((in_units, units)))\n",
    "        self.bias = nn.Parameter(torch.randn((units, )))\n",
    "\n",
    "    def forward(self, X):\n",
    "        return F.relu(torch.matmul(X, self.weight) + self.bias)"
   ]
  },
  {
   "cell_type": "code",
   "execution_count": 23,
   "id": "a6ca7c67-563d-4609-b489-19448afe1acb",
   "metadata": {},
   "outputs": [
    {
     "data": {
      "text/plain": [
       "Parameter containing:\n",
       "tensor([[-1.0034,  0.8847, -0.5413],\n",
       "        [-0.3851,  1.1549, -1.2368],\n",
       "        [-2.0569,  0.0365,  1.3508],\n",
       "        [-1.4379,  0.1942,  0.5164],\n",
       "        [-0.2103,  0.6267,  0.9773]], requires_grad=True)"
      ]
     },
     "execution_count": 23,
     "metadata": {},
     "output_type": "execute_result"
    }
   ],
   "source": [
    "linear = MyLinear(5, 3)\n",
    "linear.weight"
   ]
  },
  {
   "cell_type": "code",
   "execution_count": 24,
   "id": "44646e57-5961-4d93-b504-0530bf8ddc5b",
   "metadata": {},
   "outputs": [
    {
     "data": {
      "text/plain": [
       "tensor([[0.0000, 2.1792, 0.0000],\n",
       "        [0.0000, 2.8481, 0.0000]], grad_fn=<ReluBackward0>)"
      ]
     },
     "execution_count": 24,
     "metadata": {},
     "output_type": "execute_result"
    }
   ],
   "source": [
    "linear(torch.rand(2, 5))"
   ]
  },
  {
   "cell_type": "code",
   "execution_count": 48,
   "id": "c2fecacf-6002-40ee-a476-84d5ae485195",
   "metadata": {},
   "outputs": [
    {
     "data": {
      "text/plain": [
       "tensor([[20.1299],\n",
       "        [14.4841]], grad_fn=<ReluBackward0>)"
      ]
     },
     "execution_count": 48,
     "metadata": {},
     "output_type": "execute_result"
    }
   ],
   "source": [
    "net = nn.Sequential(MyLinear(64, 10), MyLinear(10, 1))\n",
    "net(torch.rand(2, 64))"
   ]
  }
 ],
 "metadata": {
  "kernelspec": {
   "display_name": "Python 3 (ipykernel)",
   "language": "python",
   "name": "python3"
  },
  "language_info": {
   "codemirror_mode": {
    "name": "ipython",
    "version": 3
   },
   "file_extension": ".py",
   "mimetype": "text/x-python",
   "name": "python",
   "nbconvert_exporter": "python",
   "pygments_lexer": "ipython3",
   "version": "3.11.5"
  }
 },
 "nbformat": 4,
 "nbformat_minor": 5
}
