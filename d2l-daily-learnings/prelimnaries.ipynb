{
 "cells": [
  {
   "cell_type": "markdown",
   "id": "d96f9ad0-6301-4ec7-875f-04b98bfd4d1b",
   "metadata": {
    "jp-MarkdownHeadingCollapsed": true
   },
   "source": [
    "## Data Manipulation\n",
    "- We need to understnad how to manage n-dimentional tensors before starting our dive into deep learning\n",
    "- Why use pytorch / tensorflow?\n",
    "  - It leverages GPUs to accelerate numerical computation, whereas NumPy only runs on CPUs"
   ]
  },
  {
   "cell_type": "code",
   "execution_count": 7,
   "id": "ab6a1c8a-4d3a-405c-ab51-c6e0db33bcfb",
   "metadata": {},
   "outputs": [
    {
     "data": {
      "text/plain": [
       "(tensor([ 0.,  1.,  2.,  3.,  4.,  5.,  6.,  7.,  8.,  9., 10., 11.]),\n",
       " 12,\n",
       " torch.Size([12]))"
      ]
     },
     "execution_count": 7,
     "metadata": {},
     "output_type": "execute_result"
    }
   ],
   "source": [
    "import torch\n",
    "x = torch.arange(12, dtype=torch.float32)\n",
    "x, x.numel(), x.shape"
   ]
  },
  {
   "cell_type": "markdown",
   "id": "01b9fbd8-3a01-4756-bdc0-47a4f0519901",
   "metadata": {},
   "source": [
    "- Reshape function restructure the tensor in the requested shape\n",
    "- The same thing could be achieved using `torch.view()` as well\n",
    "- We can find the dimensions using `size()` function or the value of `shape` of the tensor"
   ]
  },
  {
   "cell_type": "code",
   "execution_count": 40,
   "id": "36bab633-1e16-4ce3-a1ff-f88a42545ce1",
   "metadata": {},
   "outputs": [
    {
     "data": {
      "text/plain": [
       "(tensor([[ 0.,  1.,  2.,  3.],\n",
       "         [ 4.,  5.,  6.,  7.],\n",
       "         [ 8.,  9., 10., 11.]]),\n",
       " torch.Size([3, 4]),\n",
       " tensor([[ 0.,  1.,  2.,  3.],\n",
       "         [ 4.,  5.,  6.,  7.],\n",
       "         [ 8.,  9., 10., 11.]]),\n",
       " torch.Size([3, 4]))"
      ]
     },
     "execution_count": 40,
     "metadata": {},
     "output_type": "execute_result"
    }
   ],
   "source": [
    "id_before_reshape = id(x)\n",
    "x_reshape = x.reshape(3, 4)\n",
    "x_view = x.view(3, -1)\n",
    "x_reshape, x_reshape.shape, x_view, x_view.size()"
   ]
  },
  {
   "cell_type": "markdown",
   "id": "94524fc1-2ce2-4f97-b0da-69a8394f2156",
   "metadata": {},
   "source": [
    "- We can initialize `torch.zeros`, `torch.ones` for a tensor for desired shape with all zeros or ones\n",
    "- Also, we can use `torch.zeros_like` or `torch.ones_like` to initialize tensors of shape which is similar to some other tensor"
   ]
  },
  {
   "cell_type": "code",
   "execution_count": 44,
   "id": "5ddb2888-1489-492c-b469-d5d710975b0e",
   "metadata": {},
   "outputs": [
    {
     "data": {
      "text/plain": [
       "(tensor([[0., 0., 0.],\n",
       "         [0., 0., 0.]]),\n",
       " tensor([[1., 1., 1.]]),\n",
       " tensor([[1., 1., 1.],\n",
       "         [1., 1., 1.]]))"
      ]
     },
     "execution_count": 44,
     "metadata": {},
     "output_type": "execute_result"
    }
   ],
   "source": [
    "A = torch.zeros((2,3))\n",
    "B = torch.ones((1,3))\n",
    "C = torch.ones_like(A)\n",
    "A, B, C"
   ]
  },
  {
   "cell_type": "markdown",
   "id": "14cf211c-bb0e-4a48-9d68-d7d26153965d",
   "metadata": {},
   "source": [
    "- We can also initialize tensors using `randn` function, this picks up values from a normal distribution of `mean = 0` and `sd = 1`"
   ]
  },
  {
   "cell_type": "code",
   "execution_count": 47,
   "id": "5dbc8230-a58e-4ff2-8a24-5ab1e0ee3522",
   "metadata": {},
   "outputs": [
    {
     "data": {
      "text/plain": [
       "tensor([[[-1.0703, -0.6006,  0.6795,  0.7969],\n",
       "         [-0.6514, -0.6167,  0.3797, -0.7482],\n",
       "         [ 0.6418,  0.2202,  0.2801,  0.2707]],\n",
       "\n",
       "        [[-1.1957, -1.7886, -0.0371,  0.7337],\n",
       "         [-0.8295,  1.0147, -0.8393,  0.2184],\n",
       "         [ 0.4706,  0.1834,  0.1571, -1.5279]]])"
      ]
     },
     "execution_count": 47,
     "metadata": {},
     "output_type": "execute_result"
    }
   ],
   "source": [
    "X = torch.randn((2,3,4))\n",
    "X"
   ]
  },
  {
   "cell_type": "code",
   "execution_count": 50,
   "id": "a670f597-746d-4b2c-87fb-125e5e3a95b6",
   "metadata": {},
   "outputs": [
    {
     "data": {
      "text/plain": [
       "(tensor([[[0.3429, 0.5485, 1.9729, 2.2187],\n",
       "          [0.5213, 0.5397, 1.4618, 0.4732],\n",
       "          [1.8999, 1.2463, 1.3233, 1.3109]],\n",
       " \n",
       "         [[0.3025, 0.1672, 0.9636, 2.0828],\n",
       "          [0.4363, 2.7586, 0.4320, 1.2441],\n",
       "          [1.6010, 1.2013, 1.1702, 0.2170]]]),\n",
       " tensor([ 3.,  4.,  6., 10.]),\n",
       " tensor([-1.,  0.,  2.,  6.]),\n",
       " tensor([ 2.,  4.,  8., 16.]),\n",
       " tensor([0.5000, 1.0000, 2.0000, 4.0000]),\n",
       " tensor([ 1.,  4., 16., 64.]))"
      ]
     },
     "execution_count": 50,
     "metadata": {},
     "output_type": "execute_result"
    }
   ],
   "source": [
    "# We can perform parallel operations on these tensors using the following mathematical operators\n",
    "X_exp = torch.exp(X)\n",
    "x = torch.tensor([1.0, 2, 4, 8])\n",
    "y = torch.tensor([2, 2, 2, 2])\n",
    "# These will create element-wise operations, we can also produce algebraic operations\n",
    "X_exp, x + y, x - y, x * y, x / y, x ** y"
   ]
  },
  {
   "cell_type": "code",
   "execution_count": 52,
   "id": "e8a10ed2-054d-4793-91d0-8f20afa114e0",
   "metadata": {},
   "outputs": [
    {
     "data": {
      "text/plain": [
       "tensor([[False,  True, False,  True],\n",
       "        [False, False, False, False],\n",
       "        [False, False, False, False]])"
      ]
     },
     "execution_count": 52,
     "metadata": {},
     "output_type": "execute_result"
    }
   ],
   "source": [
    "X = torch.arange(12, dtype=torch.float32).reshape((3,4))\n",
    "Y = torch.tensor([[2.0, 1, 4, 3], [1, 2, 3, 4], [4, 3, 2, 1]])\n",
    "X == Y"
   ]
  },
  {
   "cell_type": "markdown",
   "id": "487344e4-b751-40f6-b2c3-19619ecdf9ad",
   "metadata": {},
   "source": [
    "### Broadcasting\n",
    "- Two tensors are “broadcastable” if the following rules hold:\n",
    "  - Each tensor has at least one dimension.\n",
    "  - When iterating over the dimension sizes, starting at the trailing dimension, the dimension sizes must either be equal, one of them is 1, or one of them does not exist\n",
    "- Broadcasting works according to the following two-step procedure:\n",
    "  - expand one or both arrays by copying elements along axes with length 1 so that after this transformation, the two tensors have the same shape\n",
    "  - perform an elementwise operation on the resulting arrays"
   ]
  },
  {
   "cell_type": "code",
   "execution_count": 53,
   "id": "9a4394b0-0f30-4272-a1cc-4b905a0c0608",
   "metadata": {},
   "outputs": [
    {
     "data": {
      "text/plain": [
       "(tensor([[0],\n",
       "         [1],\n",
       "         [2]]),\n",
       " tensor([[0, 1]]))"
      ]
     },
     "execution_count": 53,
     "metadata": {},
     "output_type": "execute_result"
    }
   ],
   "source": [
    "a = torch.arange(3).reshape((3, 1)) # 3 x 1\n",
    "b = torch.arange(2).reshape((1, 2)) # 1 x 2\n",
    "a, b"
   ]
  },
  {
   "cell_type": "code",
   "execution_count": 78,
   "id": "484196df-e4b3-4b1d-9413-3aa5764951a3",
   "metadata": {},
   "outputs": [
    {
     "data": {
      "text/plain": [
       "tensor([[0, 1],\n",
       "        [1, 2],\n",
       "        [2, 3]])"
      ]
     },
     "execution_count": 78,
     "metadata": {},
     "output_type": "execute_result"
    }
   ],
   "source": [
    "a + b"
   ]
  },
  {
   "cell_type": "code",
   "execution_count": 59,
   "id": "9a5fe47b-bedd-4e67-8703-5dd97db7819d",
   "metadata": {},
   "outputs": [
    {
     "data": {
      "text/plain": [
       "tensor([[0, 1],\n",
       "        [1, 2],\n",
       "        [2, 3]])"
      ]
     },
     "execution_count": 59,
     "metadata": {},
     "output_type": "execute_result"
    }
   ],
   "source": [
    "a_broadcasted_internally = torch.tensor([[0,0], [1,1], [2,2]])\n",
    "b_broadcasted_internally = torch.tensor([[0,1], [0,1], [0,1]])\n",
    "a_broadcasted_internally + b_broadcasted_internally"
   ]
  },
  {
   "cell_type": "markdown",
   "id": "b4191253-dffe-4666-a242-5e6b08be0ae2",
   "metadata": {},
   "source": [
    "### We can save memory using `+=` instead of `= A + B`"
   ]
  },
  {
   "cell_type": "code",
   "execution_count": 70,
   "id": "7b0bf9b1-fb8e-47d8-9d78-ee8c10489089",
   "metadata": {},
   "outputs": [
    {
     "data": {
      "text/plain": [
       "(5276189424, 5275877008, tensor([-0.8869,  1.1944,  1.5369]))"
      ]
     },
     "execution_count": 70,
     "metadata": {},
     "output_type": "execute_result"
    }
   ],
   "source": [
    "X, Y = torch.randn((2,3))\n",
    "before_id = id(Y)\n",
    "Y = X + Y\n",
    "before_id, id(Y), Y"
   ]
  },
  {
   "cell_type": "code",
   "execution_count": 71,
   "id": "1d0849c9-1d70-4b45-92eb-9ad5d3771781",
   "metadata": {},
   "outputs": [
    {
     "data": {
      "text/plain": [
       "(5275877008, 5275877008, tensor([-0.9505,  2.0809,  2.3685]))"
      ]
     },
     "execution_count": 71,
     "metadata": {},
     "output_type": "execute_result"
    }
   ],
   "source": [
    "before_id = id(Y)\n",
    "Y += X\n",
    "before_id, id(Y), Y"
   ]
  },
  {
   "cell_type": "markdown",
   "id": "7652738c-34ee-4bcf-9cc1-e81d3f22e01a",
   "metadata": {},
   "source": [
    "### Exercise\n",
    "- Run the code in this section. Change the conditional statement X == Y to X < Y or X > Y, and then see what kind of tensor you can get.\n",
    "- Replace the two tensors that operate by element in the broadcasting mechanism with other shapes, e.g., 3-dimensional tensors. Is the result the same as expected?"
   ]
  },
  {
   "cell_type": "code",
   "execution_count": 74,
   "id": "73c2e2d5-9d05-4020-bb6b-c89dfa6bca9f",
   "metadata": {},
   "outputs": [
    {
     "data": {
      "text/plain": [
       "(tensor([[ 0.,  1.,  2.,  3.],\n",
       "         [ 4.,  5.,  6.,  7.],\n",
       "         [ 8.,  9., 10., 11.]]),\n",
       " tensor([[2., 1., 4., 3.],\n",
       "         [1., 2., 3., 4.],\n",
       "         [4., 3., 2., 1.]]),\n",
       " tensor([[False, False, False, False],\n",
       "         [ True,  True,  True,  True],\n",
       "         [ True,  True,  True,  True]]))"
      ]
     },
     "execution_count": 74,
     "metadata": {},
     "output_type": "execute_result"
    }
   ],
   "source": [
    "X = torch.arange(12, dtype=torch.float32).reshape((3,4))\n",
    "Y = torch.tensor([[2.0, 1, 4, 3], [1, 2, 3, 4], [4, 3, 2, 1]])\n",
    "X, Y, X > Y # we can get element wise understanding which ele is greater/less than compared to the other tensor"
   ]
  },
  {
   "cell_type": "markdown",
   "id": "b9d603a0-b4e5-4b69-9e56-286651001801",
   "metadata": {},
   "source": [
    "3 x 2 x 2<br>\n",
    "&nbsp;&nbsp;&nbsp;&nbsp;&nbsp;&nbsp;&nbsp;1 x 2<br>\n",
    "From the broadcasting rules, we see that the last dimension is match, the second last dimension is 1 and the first dim does not exists, hence we can broadcast it"
   ]
  },
  {
   "cell_type": "code",
   "execution_count": 81,
   "id": "c7f30a13-b2f3-448b-bf0c-7bc4648c3889",
   "metadata": {},
   "outputs": [
    {
     "data": {
      "text/plain": [
       "(tensor([[[ 0,  1],\n",
       "          [ 2,  3]],\n",
       " \n",
       "         [[ 4,  5],\n",
       "          [ 6,  7]],\n",
       " \n",
       "         [[ 8,  9],\n",
       "          [10, 11]]]),\n",
       " tensor([[0, 1]]))"
      ]
     },
     "execution_count": 81,
     "metadata": {},
     "output_type": "execute_result"
    }
   ],
   "source": [
    "a = torch.arange(12).reshape((3, 2, 2)) # 3 x 2 x 2\n",
    "b = torch.arange(2).reshape((1, 2)) # 1 x 2\n",
    "a, b"
   ]
  },
  {
   "cell_type": "markdown",
   "id": "863433c2-60c1-4a41-a227-84f01935a17e",
   "metadata": {},
   "source": [
    "## Data Preprocessing"
   ]
  },
  {
   "cell_type": "code",
   "execution_count": null,
   "id": "b11d9803-5856-44ab-8158-1dce0cf9ecfd",
   "metadata": {},
   "outputs": [],
   "source": []
  }
 ],
 "metadata": {
  "kernelspec": {
   "display_name": "Python 3 (ipykernel)",
   "language": "python",
   "name": "python3"
  },
  "language_info": {
   "codemirror_mode": {
    "name": "ipython",
    "version": 3
   },
   "file_extension": ".py",
   "mimetype": "text/x-python",
   "name": "python",
   "nbconvert_exporter": "python",
   "pygments_lexer": "ipython3",
   "version": "3.11.5"
  }
 },
 "nbformat": 4,
 "nbformat_minor": 5
}
