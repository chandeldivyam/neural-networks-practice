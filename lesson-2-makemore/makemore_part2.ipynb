{
 "cells": [
  {
   "cell_type": "code",
   "execution_count": 1,
   "id": "b41c849b-6e94-44ec-bca0-e4ca369430c3",
   "metadata": {},
   "outputs": [],
   "source": [
    "import torch\n",
    "import torch.nn.functional as F\n",
    "import matplotlib.pyplot as plt\n",
    "%matplotlib inline"
   ]
  },
  {
   "cell_type": "code",
   "execution_count": 3,
   "id": "e77287db-ab4d-4d55-bf62-23ed49a7bb45",
   "metadata": {},
   "outputs": [
    {
     "data": {
      "text/plain": [
       "['emma', 'olivia', 'ava', 'isabella', 'sophia', 'charlotte', 'mia', 'amelia']"
      ]
     },
     "execution_count": 3,
     "metadata": {},
     "output_type": "execute_result"
    }
   ],
   "source": [
    "# Reading all the words\n",
    "words = open('names.txt', 'r').read().splitlines()\n",
    "words[:8]"
   ]
  },
  {
   "cell_type": "code",
   "execution_count": 4,
   "id": "80f202c2-bd20-421d-8b4c-64ee644a35b4",
   "metadata": {},
   "outputs": [
    {
     "data": {
      "text/plain": [
       "32033"
      ]
     },
     "execution_count": 4,
     "metadata": {},
     "output_type": "execute_result"
    }
   ],
   "source": [
    "len(words)"
   ]
  },
  {
   "cell_type": "code",
   "execution_count": 9,
   "id": "0b14838e-f4d5-4981-8a9f-2678d082c5b7",
   "metadata": {},
   "outputs": [],
   "source": [
    "chars = sorted(list(set(''.join(words))))\n",
    "stoi = {s: i+1 for i,s in enumerate(chars)}\n",
    "stoi['.'] =  0\n",
    "itos = {i:s for s,i in stoi.items()}"
   ]
  },
  {
   "cell_type": "code",
   "execution_count": 70,
   "id": "6a37da37-3c25-4570-a9f1-3485278c2c9d",
   "metadata": {},
   "outputs": [
    {
     "name": "stdout",
     "output_type": "stream",
     "text": [
      "torch.Size([182437, 3]) torch.Size([182437])\n",
      "torch.Size([22781, 3]) torch.Size([22781])\n",
      "torch.Size([22928, 3]) torch.Size([22928])\n"
     ]
    }
   ],
   "source": [
    "# Dataset creation\n",
    "def build_dataset(words):\n",
    "    X, Y = [], []\n",
    "    for w in words:\n",
    "        # print(w)\n",
    "        context = [0] * block_size\n",
    "        for ch in w + '.':\n",
    "            ix = stoi[ch]\n",
    "            X.append(context)\n",
    "            Y.append(ix)\n",
    "            # print(''.join(itos[i] for i in context), '----->', itos[ix])\n",
    "            context = context[1:] + [ix]\n",
    "    X = torch.tensor(X)\n",
    "    Y = torch.tensor(Y)\n",
    "    print(X.shape, Y.shape)\n",
    "    return X, Y\n",
    "    \n",
    "block_size = 3\n",
    "import random\n",
    "random.seed(42)\n",
    "random.shuffle(words)\n",
    "n1 = int(0.8*len(words))\n",
    "n2 = int(0.9*len(words))\n",
    "\n",
    "Xtr, Ytr = build_dataset(words[:n1])\n",
    "Xdev, Ydev = build_dataset(words[n1:n2])\n",
    "Xtest, Ytest = build_dataset(words[n2:])"
   ]
  },
  {
   "cell_type": "code",
   "execution_count": 103,
   "id": "ec01e93f-d6d9-45fe-9f10-4b06f96b1caa",
   "metadata": {},
   "outputs": [],
   "source": [
    "g = torch.Generator()\n",
    "g.manual_seed(2147483647)\n",
    "C = torch.randn((27, 10), generator=g)\n",
    "W1 = torch.randn((30, 200), generator=g)\n",
    "b1 = torch.randn(200, generator=g)\n",
    "W2 = torch.randn((200, 27), generator=g)\n",
    "b2 = torch.randn(27, generator=g)\n",
    "parameters = [C, W1, b1, W2, b2]"
   ]
  },
  {
   "cell_type": "code",
   "execution_count": 104,
   "id": "fddb27fa-8cc9-46e1-b5b2-21e2c0532a59",
   "metadata": {},
   "outputs": [
    {
     "data": {
      "text/plain": [
       "11897"
      ]
     },
     "execution_count": 104,
     "metadata": {},
     "output_type": "execute_result"
    }
   ],
   "source": [
    "sum(p.nelement() for p in parameters)"
   ]
  },
  {
   "cell_type": "code",
   "execution_count": 77,
   "id": "7b08c7db-78b2-455f-aa31-0c06b2690ff0",
   "metadata": {},
   "outputs": [],
   "source": [
    "lre = torch.linspace(-3, 0, 1000)\n",
    "lrs = 10**lre"
   ]
  },
  {
   "cell_type": "code",
   "execution_count": 105,
   "id": "32460af8-8396-4a71-ae4a-e16f2c6c50cb",
   "metadata": {},
   "outputs": [],
   "source": [
    "lri = []\n",
    "lossi = []\n",
    "stepi = []"
   ]
  },
  {
   "cell_type": "code",
   "execution_count": 121,
   "id": "f1623330-a8be-49c2-80b4-c18951d4aeab",
   "metadata": {},
   "outputs": [
    {
     "name": "stdout",
     "output_type": "stream",
     "text": [
      "iteration: 50000, loss: 2.505901575088501\n",
      "iteration: 50500, loss: 2.1238136291503906\n",
      "iteration: 51000, loss: 2.3961448669433594\n",
      "iteration: 51500, loss: 2.0146031379699707\n",
      "iteration: 52000, loss: 2.1482999324798584\n",
      "iteration: 52500, loss: 2.394116163253784\n",
      "iteration: 53000, loss: 1.9548372030258179\n",
      "iteration: 53500, loss: 2.3208348751068115\n",
      "iteration: 54000, loss: 2.5190114974975586\n",
      "iteration: 54500, loss: 2.1976420879364014\n",
      "iteration: 55000, loss: 2.275923490524292\n",
      "iteration: 55500, loss: 1.9781845808029175\n",
      "iteration: 56000, loss: 1.9757994413375854\n",
      "iteration: 56500, loss: 2.180076837539673\n",
      "iteration: 57000, loss: 1.982251763343811\n",
      "iteration: 57500, loss: 2.0837604999542236\n",
      "iteration: 58000, loss: 2.1613316535949707\n",
      "iteration: 58500, loss: 1.583761215209961\n",
      "iteration: 59000, loss: 2.4958784580230713\n",
      "iteration: 59500, loss: 2.147015333175659\n"
     ]
    }
   ],
   "source": [
    "for p in parameters:\n",
    "    p.requires_grad = True\n",
    "for i in range(50000, 60000):\n",
    "    \n",
    "    # Mini batch \n",
    "    ix = torch.randint(0, Xtr.shape[0], (32, ))\n",
    "    \n",
    "    # Forward Pass\n",
    "    emb = C[X[ix]] # 32, 3, 2\n",
    "    h = torch.tanh(emb.view(-1, 30) @ W1 + b1)\n",
    "    logits = h @ W2 + b2\n",
    "    loss = F.cross_entropy(logits, Y[ix])\n",
    "    # print(loss.item())\n",
    "    \n",
    "    # Backward pass\n",
    "    for p in parameters:\n",
    "        p.grad = None\n",
    "    loss.backward()\n",
    "    \n",
    "    # Update\n",
    "    lr = 0.02\n",
    "    for p in parameters:\n",
    "        p.data += -lr * p.grad\n",
    "    lossi.append(loss.item())\n",
    "    stepi.append(i)\n",
    "    if i%500 == 0:\n",
    "        print(f\"iteration: {i}, loss: {loss.item()}\")"
   ]
  },
  {
   "cell_type": "code",
   "execution_count": 119,
   "id": "88a335b2-786d-4546-a55d-f01d7ecaffe1",
   "metadata": {},
   "outputs": [
    {
     "data": {
      "text/plain": [
       "[<matplotlib.lines.Line2D at 0x7fa325503e50>]"
      ]
     },
     "execution_count": 119,
     "metadata": {},
     "output_type": "execute_result"
    },
    {
     "data": {
      "image/png": "[encoded data removed]",
      "text/plain": [
       "<Figure size 640x480 with 1 Axes>"
      ]
     },
     "metadata": {},
     "output_type": "display_data"
    }
   ],
   "source": [
    "plt.plot(stepi, lossi)"
   ]
  },
  {
   "cell_type": "code",
   "execution_count": 122,
   "id": "5fadd847-fae9-4c8a-b14c-c223151c64e5",
   "metadata": {},
   "outputs": [
    {
     "data": {
      "text/plain": [
       "tensor(2.2133, grad_fn=<NllLossBackward0>)"
      ]
     },
     "execution_count": 122,
     "metadata": {},
     "output_type": "execute_result"
    }
   ],
   "source": [
    "emb = C[Xdev]\n",
    "h = torch.tanh(emb.view(-1, 30) @ W1 + b1)\n",
    "logits = h @ W2 + b2\n",
    "loss = F.cross_entropy(logits, Ydev)\n",
    "loss"
   ]
  },
  {
   "cell_type": "code",
   "execution_count": 124,
   "id": "2b794740-f771-48b6-9d77-1535238ebe56",
   "metadata": {},
   "outputs": [
    {
     "name": "stdout",
     "output_type": "stream",
     "text": [
      "mora.\n",
      "amyanna.\n",
      "elend.\n",
      "ryah.\n",
      "reishalejdrie.\n",
      "cadelyn.\n",
      "elin.\n",
      "shy.\n",
      "jenleigh.\n",
      "eson.\n",
      "artelle.\n",
      "malara.\n",
      "noshubergiaganell.\n",
      "jaireth.\n",
      "konna.\n",
      "alfoummereder.\n",
      "yarleyels.\n",
      "kayshuskeyah.\n",
      "hal.\n",
      "aalyansun.\n"
     ]
    }
   ],
   "source": [
    "# sample from the model\n",
    "g = torch.Generator()\n",
    "g.manual_seed(2147483647 + 10)\n",
    "\n",
    "for _ in range(20):\n",
    "    \n",
    "    out = []\n",
    "    context = [0] * block_size # initialize with all ...\n",
    "    while True:\n",
    "      emb = C[torch.tensor([context])] # (1,block_size,d)\n",
    "      h = torch.tanh(emb.view(1, -1) @ W1 + b1)\n",
    "      logits = h @ W2 + b2\n",
    "      probs = F.softmax(logits, dim=1)\n",
    "      ix = torch.multinomial(probs, num_samples=1, generator=g).item()\n",
    "      context = context[1:] + [ix]\n",
    "      out.append(ix)\n",
    "      if ix == 0:\n",
    "        break\n",
    "    \n",
    "    print(''.join(itos[i] for i in out))\n"
   ]
  },
  {
   "cell_type": "code",
   "execution_count": null,
   "id": "112ce1c6-9465-4f7e-a91c-8717a5e674e7",
   "metadata": {},
   "outputs": [],
   "source": []
  }
 ],
 "metadata": {
  "kernelspec": {
   "display_name": "Python 3 (ipykernel)",
   "language": "python",
   "name": "python3"
  },
  "language_info": {
   "codemirror_mode": {
    "name": "ipython",
    "version": 3
   },
   "file_extension": ".py",
   "mimetype": "text/x-python",
   "name": "python",
   "nbconvert_exporter": "python",
   "pygments_lexer": "ipython3",
   "version": "3.10.13"
  }
 },
 "nbformat": 4,
 "nbformat_minor": 5
}
